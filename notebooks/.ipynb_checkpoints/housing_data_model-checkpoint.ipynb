{
 "cells": [
  {
   "cell_type": "code",
   "execution_count": 172,
   "metadata": {},
   "outputs": [],
   "source": [
    "import pandas as pd\n",
    "import numpy as np\n"
   ]
  },
  {
   "cell_type": "markdown",
   "metadata": {},
   "source": [
    "### Read Data"
   ]
  },
  {
   "cell_type": "code",
   "execution_count": 173,
   "metadata": {},
   "outputs": [],
   "source": [
    "path = \"C:/Users/katon/Documents/JHU/DataVisualization/final_project/data/final_data/\"\n",
    "\n",
    "# independent variables\n",
    "population_df = pd.read_excel(path+\"population.xlsx\").set_index('State')\n",
    "housing_df = pd.read_excel(path+\"housing.xlsx\").set_index('State')\n",
    "\n",
    "# dependent variables\n",
    "homeless_df = pd.read_excel(path+\"homeless.xlsx\").set_index('State')\n",
    "hpi_df = pd.read_excel(path+\"hpi.xlsx\").set_index('State')\n",
    "\n"
   ]
  },
  {
   "cell_type": "markdown",
   "metadata": {},
   "source": [
    "### Preprocessing"
   ]
  },
  {
   "cell_type": "code",
   "execution_count": 174,
   "metadata": {
    "scrolled": true
   },
   "outputs": [],
   "source": [
    "def common_indices(dataframes):\n",
    "    common_idx = set(dataframes[0].index)\n",
    "    for df in dataframes[1:]:\n",
    "        common_idx = common_idx.intersection(df.index)\n",
    "    return list(common_idx)"
   ]
  },
  {
   "cell_type": "code",
   "execution_count": 175,
   "metadata": {},
   "outputs": [],
   "source": [
    "common_index = common_indices([homeless_df, housing_df, hpi_df, population_df])"
   ]
  },
  {
   "cell_type": "code",
   "execution_count": 176,
   "metadata": {},
   "outputs": [],
   "source": [
    "housing_list, population_list, homeless_list, hpi_list, state_list = [], [], [], [], []\n",
    "for state in common_index:\n",
    "    for year in list(housing_df.columns):\n",
    "        housing_list.append(housing_df.loc[state, year])\n",
    "        population_list.append(population_df.loc[state, year])\n",
    "        homeless_list.append(homeless_df.loc[state, year])\n",
    "        hpi_list.append(hpi_df.loc[state, year])\n",
    "        state_list.append(state)"
   ]
  },
  {
   "cell_type": "code",
   "execution_count": 177,
   "metadata": {},
   "outputs": [],
   "source": [
    "homeless_input = pd.DataFrame([housing_list, population_list, hpi_list, state_list, homeless_list]).T\n",
    "homeless_input.columns = ['housing', 'population', 'hpi', 'state', 'homeless']\n",
    "\n",
    "hpi_input = pd.DataFrame([housing_list, population_list, state_list, hpi_list]).T\n",
    "hpi_input.columns = ['housing', 'population', 'state', 'hpi']"
   ]
  },
  {
   "cell_type": "code",
   "execution_count": 178,
   "metadata": {},
   "outputs": [],
   "source": [
    "# Prep hpi\n",
    "hpi_ohe = pd.get_dummies(hpi_input['state'])\n",
    "hpi_input_df = pd.concat([hpi_input[['housing', 'population', 'hpi']], hpi_ohe], axis=1)\n",
    "hpi_input_df = hpi_input_df.astype(int)\n",
    "hpiX, hpiY = hpi_input_df.drop('hpi', axis=1), hpi_input_df['hpi']\n"
   ]
  },
  {
   "cell_type": "code",
   "execution_count": 179,
   "metadata": {},
   "outputs": [],
   "source": [
    "# prep homeless\n",
    "homeless_ohe = pd.get_dummies(homeless_input['state'])\n",
    "homeless_input_df = pd.concat([homeless_input[['housing', 'population', 'hpi', 'homeless']], homeless_ohe], axis=1)\n",
    "homeless_input_df = homeless_input_df.astype(int)\n",
    "homelessX, homelessY = homeless_input_df.drop('homeless', axis=1), homeless_input_df['homeless']"
   ]
  },
  {
   "cell_type": "markdown",
   "metadata": {},
   "source": [
    "## Model Selection\n",
    "\n",
    "Start with prediction model for HPI, use HPI prediction as feature for homeless prediction"
   ]
  },
  {
   "cell_type": "code",
   "execution_count": 180,
   "metadata": {},
   "outputs": [],
   "source": [
    "from sklearn.ensemble import RandomForestRegressor\n",
    "from sklearn.neighbors import KNeighborsRegressor\n",
    "from xgboost import XGBRegressor\n",
    "from sklearn.model_selection import cross_val_score, KFold"
   ]
  },
  {
   "cell_type": "code",
   "execution_count": 181,
   "metadata": {},
   "outputs": [],
   "source": [
    "## Random Forest\n",
    "hpi_model = RandomForestRegressor(n_estimators=100, random_state=42) # 0.94\n",
    "homeless_model = RandomForestRegressor(n_estimators=100, random_state=42) # 0.98"
   ]
  },
  {
   "cell_type": "code",
   "execution_count": 182,
   "metadata": {},
   "outputs": [],
   "source": [
    "# KNN\n",
    "hpi_model = KNeighborsRegressor(n_neighbors=3) # 0.68\n",
    "homeless_model = KNeighborsRegressor(n_neighbors=3) # 0.98"
   ]
  },
  {
   "cell_type": "code",
   "execution_count": 193,
   "metadata": {},
   "outputs": [],
   "source": [
    "# XGBoost\n",
    "hpi_model = XGBRegressor() # 0.93\n",
    "homeless_model = XGBRegressor() # 0.99"
   ]
  },
  {
   "cell_type": "markdown",
   "metadata": {},
   "source": [
    "### HPI Model"
   ]
  },
  {
   "cell_type": "code",
   "execution_count": 194,
   "metadata": {},
   "outputs": [
    {
     "data": {
      "text/plain": [
       "0.939423040244382"
      ]
     },
     "execution_count": 194,
     "metadata": {},
     "output_type": "execute_result"
    }
   ],
   "source": [
    "cv = KFold(n_splits=5, shuffle=True, random_state=42)\n",
    "cv_scores = cross_val_score(hpi_model, hpiX, hpiY, cv=cv, scoring='r2')\n",
    "np.mean(cv_scores)"
   ]
  },
  {
   "cell_type": "markdown",
   "metadata": {},
   "source": [
    "A simple RF Regression model using housing and population data achieved a very solid R-squared score of 0.94, indicating that 94% of the variability observed in the target variable (HPI) is explained by the regression model.\n",
    "\n",
    "Next, the homelessness prediction model is developed using housing, population, and HPI as data points."
   ]
  },
  {
   "cell_type": "code",
   "execution_count": 195,
   "metadata": {},
   "outputs": [
    {
     "data": {
      "text/plain": [
       "0.9905697873709001"
      ]
     },
     "execution_count": 195,
     "metadata": {},
     "output_type": "execute_result"
    }
   ],
   "source": [
    "cv = KFold(n_splits=5, shuffle=True, random_state=42)\n",
    "cv_scores = cross_val_score(homeless_model, homelessX, homelessY, cv=cv, scoring='r2')\n",
    "np.mean(cv_scores)"
   ]
  },
  {
   "cell_type": "markdown",
   "metadata": {},
   "source": [
    "The homelessness model achieved comparable accuracy to the hpi model"
   ]
  },
  {
   "cell_type": "markdown",
   "metadata": {},
   "source": [
    "### Making Predictions\n",
    "\n",
    "The purpose of these models is to make predictions of future HPI and homelessness numbers based on a user inputting the number of houses constructed per year. In order to have this input be done within a Tableau dashboard, the predictions will be premade. This way, the model with not be required each time to make predictions, the dashboard will simply pull from a dataframe"
   ]
  },
  {
   "cell_type": "code",
   "execution_count": 196,
   "metadata": {},
   "outputs": [
    {
     "data": {
      "text/plain": [
       "XGBRegressor(base_score=0.5, booster='gbtree', callbacks=None,\n",
       "             colsample_bylevel=1, colsample_bynode=1, colsample_bytree=1,\n",
       "             early_stopping_rounds=None, enable_categorical=False,\n",
       "             eval_metric=None, gamma=0, gpu_id=-1, grow_policy='depthwise',\n",
       "             importance_type=None, interaction_constraints='',\n",
       "             learning_rate=0.300000012, max_bin=256, max_cat_to_onehot=4,\n",
       "             max_delta_step=0, max_depth=6, max_leaves=0, min_child_weight=1,\n",
       "             missing=nan, monotone_constraints='()', n_estimators=100, n_jobs=0,\n",
       "             num_parallel_tree=1, predictor='auto', random_state=0, reg_alpha=0,\n",
       "             reg_lambda=1, ...)"
      ]
     },
     "execution_count": 196,
     "metadata": {},
     "output_type": "execute_result"
    }
   ],
   "source": [
    "# First, fit both models\n",
    "hpi_model.fit(hpiX, hpiY)\n",
    "homeless_model.fit(homelessX, homelessY)\n"
   ]
  },
  {
   "cell_type": "code",
   "execution_count": 204,
   "metadata": {},
   "outputs": [
    {
     "data": {
      "text/plain": [
       "Index(['housing', 'population', 'AK', 'AL', 'AR', 'AZ', 'CA', 'CO', 'CT', 'DC',\n",
       "       'DE', 'FL', 'GA', 'HI', 'IA', 'ID', 'IL', 'IN', 'KS', 'KY', 'LA', 'MA',\n",
       "       'MD', 'ME', 'MI', 'MN', 'MO', 'MS', 'MT', 'NC', 'ND', 'NE', 'NH', 'NJ',\n",
       "       'NM', 'NV', 'NY', 'OH', 'OK', 'OR', 'PA', 'RI', 'SC', 'SD', 'TN', 'TX',\n",
       "       'UT', 'VA', 'VT', 'WA', 'WI', 'WV', 'WY'],\n",
       "      dtype='object')"
      ]
     },
     "execution_count": 204,
     "metadata": {},
     "output_type": "execute_result"
    }
   ],
   "source": [
    "hpiX.columns"
   ]
  },
  {
   "cell_type": "code",
   "execution_count": 197,
   "metadata": {},
   "outputs": [],
   "source": [
    "state = 'CA'"
   ]
  },
  {
   "cell_type": "code",
   "execution_count": 198,
   "metadata": {},
   "outputs": [],
   "source": [
    "housing_construction = housing_df.copy()\n",
    "for year in housing_construction.columns[1:]:\n",
    "    housing_construction[year] = housing_df[year] - housing_df[year-1]\n",
    "mean_units_per_year = np.mean(housing_construction.iloc[:, 1:], axis=1).astype(int)"
   ]
  },
  {
   "cell_type": "code",
   "execution_count": 209,
   "metadata": {},
   "outputs": [
    {
     "ename": "ValueError",
     "evalue": "DataFrame.dtypes for data must be int, float, bool or category.  When\ncategorical type is supplied, DMatrix parameter `enable_categorical` must\nbe set to `True`. Invalid columns:housing, population, hpi, AK, AL, AR, AZ, CA, CO, CT, DC, DE, FL, GA, HI, IA, ID, IL, IN, KS, KY, LA, MA, MD, ME, MI, MN, MO, MS, MT, NC, ND, NE, NH, NJ, NM, NV, NY, OH, OK, OR, PA, RI, SC, SD, TN, TX, UT, VA, VT, WA, WI, WV, WY",
     "output_type": "error",
     "traceback": [
      "\u001b[1;31m---------------------------------------------------------------------------\u001b[0m",
      "\u001b[1;31mValueError\u001b[0m                                Traceback (most recent call last)",
      "\u001b[1;32m<ipython-input-209-363dd541e73f>\u001b[0m in \u001b[0;36m<module>\u001b[1;34m\u001b[0m\n\u001b[0;32m     32\u001b[0m         \u001b[0mhomeless_in\u001b[0m\u001b[1;33m.\u001b[0m\u001b[0mloc\u001b[0m\u001b[1;33m[\u001b[0m\u001b[1;36m0\u001b[0m\u001b[1;33m,\u001b[0m \u001b[0mstate\u001b[0m\u001b[1;33m]\u001b[0m \u001b[1;33m=\u001b[0m \u001b[1;36m1\u001b[0m\u001b[1;33m\u001b[0m\u001b[1;33m\u001b[0m\u001b[0m\n\u001b[0;32m     33\u001b[0m         \u001b[1;31m# make prediction\u001b[0m\u001b[1;33m\u001b[0m\u001b[1;33m\u001b[0m\u001b[1;33m\u001b[0m\u001b[0m\n\u001b[1;32m---> 34\u001b[1;33m         \u001b[0mhomeless_prediction\u001b[0m \u001b[1;33m=\u001b[0m \u001b[0mhomeless_model\u001b[0m\u001b[1;33m.\u001b[0m\u001b[0mpredict\u001b[0m\u001b[1;33m(\u001b[0m\u001b[0mhomeless_in\u001b[0m\u001b[1;33m)\u001b[0m\u001b[1;33m\u001b[0m\u001b[1;33m\u001b[0m\u001b[0m\n\u001b[0m\u001b[0;32m     35\u001b[0m         \u001b[0mstate_homeless_df\u001b[0m\u001b[1;33m.\u001b[0m\u001b[0mloc\u001b[0m\u001b[1;33m[\u001b[0m\u001b[0mpercent\u001b[0m\u001b[1;33m,\u001b[0m \u001b[0myear\u001b[0m\u001b[1;33m]\u001b[0m \u001b[1;33m=\u001b[0m \u001b[0mhomeless_prediction\u001b[0m\u001b[1;33m\u001b[0m\u001b[1;33m\u001b[0m\u001b[0m\n",
      "\u001b[1;32mC:\\ProgramData\\Anaconda3\\lib\\site-packages\\xgboost\\sklearn.py\u001b[0m in \u001b[0;36mpredict\u001b[1;34m(self, X, output_margin, ntree_limit, validate_features, base_margin, iteration_range)\u001b[0m\n\u001b[0;32m   1047\u001b[0m         \u001b[0mpredictor\u001b[0m \u001b[1;33m=\u001b[0m \u001b[0mself\u001b[0m\u001b[1;33m.\u001b[0m\u001b[0mget_xgb_params\u001b[0m\u001b[1;33m(\u001b[0m\u001b[1;33m)\u001b[0m\u001b[1;33m.\u001b[0m\u001b[0mget\u001b[0m\u001b[1;33m(\u001b[0m\u001b[1;34m\"predictor\"\u001b[0m\u001b[1;33m,\u001b[0m \u001b[1;32mNone\u001b[0m\u001b[1;33m)\u001b[0m\u001b[1;33m\u001b[0m\u001b[1;33m\u001b[0m\u001b[0m\n\u001b[0;32m   1048\u001b[0m         \u001b[1;32mif\u001b[0m \u001b[0mpredictor\u001b[0m \u001b[1;32min\u001b[0m \u001b[1;33m(\u001b[0m\u001b[1;34m\"auto\"\u001b[0m\u001b[1;33m,\u001b[0m \u001b[1;32mNone\u001b[0m\u001b[1;33m)\u001b[0m \u001b[1;32mand\u001b[0m \u001b[0mself\u001b[0m\u001b[1;33m.\u001b[0m\u001b[0mbooster\u001b[0m \u001b[1;33m!=\u001b[0m \u001b[1;34m\"gblinear\"\u001b[0m\u001b[1;33m:\u001b[0m\u001b[1;33m\u001b[0m\u001b[1;33m\u001b[0m\u001b[0m\n\u001b[1;32m-> 1049\u001b[1;33m             \u001b[1;32mreturn\u001b[0m \u001b[1;32mTrue\u001b[0m\u001b[1;33m\u001b[0m\u001b[1;33m\u001b[0m\u001b[0m\n\u001b[0m\u001b[0;32m   1050\u001b[0m         \u001b[1;32mreturn\u001b[0m \u001b[1;32mFalse\u001b[0m\u001b[1;33m\u001b[0m\u001b[1;33m\u001b[0m\u001b[0m\n\u001b[0;32m   1051\u001b[0m \u001b[1;33m\u001b[0m\u001b[0m\n",
      "\u001b[1;32mC:\\ProgramData\\Anaconda3\\lib\\site-packages\\xgboost\\core.py\u001b[0m in \u001b[0;36minplace_predict\u001b[1;34m(self, data, iteration_range, predict_type, missing, validate_features, base_margin, strict_shape)\u001b[0m\n\u001b[0;32m   2140\u001b[0m             \u001b[1;34m\"type\"\u001b[0m\u001b[1;33m:\u001b[0m \u001b[1;36m0\u001b[0m\u001b[1;33m,\u001b[0m\u001b[1;33m\u001b[0m\u001b[1;33m\u001b[0m\u001b[0m\n\u001b[0;32m   2141\u001b[0m             \u001b[1;34m\"training\"\u001b[0m\u001b[1;33m:\u001b[0m \u001b[0mtraining\u001b[0m\u001b[1;33m,\u001b[0m\u001b[1;33m\u001b[0m\u001b[1;33m\u001b[0m\u001b[0m\n\u001b[1;32m-> 2142\u001b[1;33m             \u001b[1;34m\"iteration_begin\"\u001b[0m\u001b[1;33m:\u001b[0m \u001b[0miteration_range\u001b[0m\u001b[1;33m[\u001b[0m\u001b[1;36m0\u001b[0m\u001b[1;33m]\u001b[0m\u001b[1;33m,\u001b[0m\u001b[1;33m\u001b[0m\u001b[1;33m\u001b[0m\u001b[0m\n\u001b[0m\u001b[0;32m   2143\u001b[0m             \u001b[1;34m\"iteration_end\"\u001b[0m\u001b[1;33m:\u001b[0m \u001b[0miteration_range\u001b[0m\u001b[1;33m[\u001b[0m\u001b[1;36m1\u001b[0m\u001b[1;33m]\u001b[0m\u001b[1;33m,\u001b[0m\u001b[1;33m\u001b[0m\u001b[1;33m\u001b[0m\u001b[0m\n\u001b[0;32m   2144\u001b[0m             \u001b[1;34m\"strict_shape\"\u001b[0m\u001b[1;33m:\u001b[0m \u001b[0mstrict_shape\u001b[0m\u001b[1;33m,\u001b[0m\u001b[1;33m\u001b[0m\u001b[1;33m\u001b[0m\u001b[0m\n",
      "\u001b[1;32mC:\\ProgramData\\Anaconda3\\lib\\site-packages\\xgboost\\data.py\u001b[0m in \u001b[0;36m_transform_pandas_df\u001b[1;34m(data, enable_categorical, feature_names, feature_types, meta, meta_type)\u001b[0m\n\u001b[0;32m    280\u001b[0m \u001b[1;33m\u001b[0m\u001b[0m\n\u001b[0;32m    281\u001b[0m     \u001b[0mtype_err\u001b[0m \u001b[1;33m=\u001b[0m \u001b[1;34m\"DataFrame.dtypes for data must be int, float, bool or category.\"\u001b[0m\u001b[1;33m\u001b[0m\u001b[1;33m\u001b[0m\u001b[0m\n\u001b[1;32m--> 282\u001b[1;33m     \u001b[0mmsg\u001b[0m \u001b[1;33m=\u001b[0m \u001b[1;34mf\"\"\"{type_err} {_ENABLE_CAT_ERR} {err}\"\"\"\u001b[0m\u001b[1;33m\u001b[0m\u001b[1;33m\u001b[0m\u001b[0m\n\u001b[0m\u001b[0;32m    283\u001b[0m     \u001b[1;32mraise\u001b[0m \u001b[0mValueError\u001b[0m\u001b[1;33m(\u001b[0m\u001b[0mmsg\u001b[0m\u001b[1;33m)\u001b[0m\u001b[1;33m\u001b[0m\u001b[1;33m\u001b[0m\u001b[0m\n\u001b[0;32m    284\u001b[0m \u001b[1;33m\u001b[0m\u001b[0m\n",
      "\u001b[1;32mC:\\ProgramData\\Anaconda3\\lib\\site-packages\\xgboost\\data.py\u001b[0m in \u001b[0;36m_invalid_dataframe_dtype\u001b[1;34m(data)\u001b[0m\n\u001b[0;32m    244\u001b[0m     \u001b[1;34m'uint8'\u001b[0m\u001b[1;33m:\u001b[0m \u001b[1;34m'int'\u001b[0m\u001b[1;33m,\u001b[0m\u001b[1;33m\u001b[0m\u001b[1;33m\u001b[0m\u001b[0m\n\u001b[0;32m    245\u001b[0m     \u001b[1;34m'uint16'\u001b[0m\u001b[1;33m:\u001b[0m \u001b[1;34m'int'\u001b[0m\u001b[1;33m,\u001b[0m\u001b[1;33m\u001b[0m\u001b[1;33m\u001b[0m\u001b[0m\n\u001b[1;32m--> 246\u001b[1;33m     \u001b[1;34m'uint32'\u001b[0m\u001b[1;33m:\u001b[0m \u001b[1;34m'int'\u001b[0m\u001b[1;33m,\u001b[0m\u001b[1;33m\u001b[0m\u001b[1;33m\u001b[0m\u001b[0m\n\u001b[0m\u001b[0;32m    247\u001b[0m     \u001b[1;34m'uint64'\u001b[0m\u001b[1;33m:\u001b[0m \u001b[1;34m'int'\u001b[0m\u001b[1;33m,\u001b[0m\u001b[1;33m\u001b[0m\u001b[1;33m\u001b[0m\u001b[0m\n\u001b[0;32m    248\u001b[0m     \u001b[1;34m'float16'\u001b[0m\u001b[1;33m:\u001b[0m \u001b[1;34m'float'\u001b[0m\u001b[1;33m,\u001b[0m\u001b[1;33m\u001b[0m\u001b[1;33m\u001b[0m\u001b[0m\n",
      "\u001b[1;31mValueError\u001b[0m: DataFrame.dtypes for data must be int, float, bool or category.  When\ncategorical type is supplied, DMatrix parameter `enable_categorical` must\nbe set to `True`. Invalid columns:housing, population, hpi, AK, AL, AR, AZ, CA, CO, CT, DC, DE, FL, GA, HI, IA, ID, IL, IN, KS, KY, LA, MA, MD, ME, MI, MN, MO, MS, MT, NC, ND, NE, NH, NJ, NM, NV, NY, OH, OK, OR, PA, RI, SC, SD, TN, TX, UT, VA, VT, WA, WI, WV, WY"
     ]
    }
   ],
   "source": [
    "percentages = [25, 50, 75, 100, 125, 150, 175, 200]\n",
    "years = list(range(2023, 2030))\n",
    "\n",
    "mean_state_units = mean_units_per_year[state]\n",
    "\n",
    "state_hpi_df = pd.DataFrame(index=percentages, columns=years)\n",
    "state_homeless_df = pd.DataFrame(index=percentages, columns=years)\n",
    "\n",
    "for year in state_hpi_df.columns:\n",
    "    for percent in state_hpi_df.index:\n",
    "        housing_val = int(housing_df.loc[state, 2021] + ((year-2021) * ((percent/100) * mean_units_per_year[state]))) # housing var\n",
    "        population_val = population_df.loc[state, year] # population var \n",
    "        \n",
    "        # Predict HPI value\n",
    "        hpi_in = pd.DataFrame(columns=hpiX.columns)\n",
    "        hpi_in.loc[0, :] = 0\n",
    "        hpi_in.loc[0, 'housing'] = housing_val\n",
    "        hpi_in.loc[0, 'population'] = population_val\n",
    "        hpi_in.loc[0, state] = 1\n",
    "        # make prediction\n",
    "        hpi_prediction = hpi_model.predict(hpi_in)\n",
    "        state_hpi_df.loc[percent, year] = hpi_prediction\n",
    "        \n",
    "        # Predict homeless value\n",
    "        homeless_in = pd.DataFrame(columns=homelessX.columns)\n",
    "        homeless_in.loc[0,:] = 0\n",
    "        homeless_in.loc[0, 'housing'] = housing_val\n",
    "        homeless_in.loc[0, 'population'] = population_val\n",
    "        homeless_in.loc[0, 'hpi'] = hpi_prediction\n",
    "        homeless_in.loc[0, state] = 1\n",
    "        # make prediction\n",
    "        homeless_prediction = homeless_model.predict(homeless_in)\n",
    "        state_homeless_df.loc[percent, year] = homeless_prediction\n"
   ]
  },
  {
   "cell_type": "code",
   "execution_count": 136,
   "metadata": {},
   "outputs": [
    {
     "data": {
      "text/html": [
       "<div>\n",
       "<style scoped>\n",
       "    .dataframe tbody tr th:only-of-type {\n",
       "        vertical-align: middle;\n",
       "    }\n",
       "\n",
       "    .dataframe tbody tr th {\n",
       "        vertical-align: top;\n",
       "    }\n",
       "\n",
       "    .dataframe thead th {\n",
       "        text-align: right;\n",
       "    }\n",
       "</style>\n",
       "<table border=\"1\" class=\"dataframe\">\n",
       "  <thead>\n",
       "    <tr style=\"text-align: right;\">\n",
       "      <th></th>\n",
       "      <th>2023</th>\n",
       "      <th>2024</th>\n",
       "      <th>2025</th>\n",
       "      <th>2026</th>\n",
       "      <th>2027</th>\n",
       "      <th>2028</th>\n",
       "      <th>2029</th>\n",
       "    </tr>\n",
       "  </thead>\n",
       "  <tbody>\n",
       "    <tr>\n",
       "      <th>25</th>\n",
       "      <td>[159786.66666666666]</td>\n",
       "      <td>[147599.33333333334]</td>\n",
       "      <td>[147599.33333333334]</td>\n",
       "      <td>[147599.33333333334]</td>\n",
       "      <td>[147599.33333333334]</td>\n",
       "      <td>[147599.33333333334]</td>\n",
       "      <td>[147599.33333333334]</td>\n",
       "    </tr>\n",
       "    <tr>\n",
       "      <th>50</th>\n",
       "      <td>[159786.66666666666]</td>\n",
       "      <td>[147599.33333333334]</td>\n",
       "      <td>[147599.33333333334]</td>\n",
       "      <td>[147599.33333333334]</td>\n",
       "      <td>[147599.33333333334]</td>\n",
       "      <td>[147599.33333333334]</td>\n",
       "      <td>[147599.33333333334]</td>\n",
       "    </tr>\n",
       "    <tr>\n",
       "      <th>75</th>\n",
       "      <td>[159786.66666666666]</td>\n",
       "      <td>[147599.33333333334]</td>\n",
       "      <td>[147599.33333333334]</td>\n",
       "      <td>[147599.33333333334]</td>\n",
       "      <td>[147599.33333333334]</td>\n",
       "      <td>[147599.33333333334]</td>\n",
       "      <td>[147599.33333333334]</td>\n",
       "    </tr>\n",
       "    <tr>\n",
       "      <th>100</th>\n",
       "      <td>[159786.66666666666]</td>\n",
       "      <td>[147599.33333333334]</td>\n",
       "      <td>[147599.33333333334]</td>\n",
       "      <td>[147599.33333333334]</td>\n",
       "      <td>[147599.33333333334]</td>\n",
       "      <td>[147599.33333333334]</td>\n",
       "      <td>[147599.33333333334]</td>\n",
       "    </tr>\n",
       "    <tr>\n",
       "      <th>125</th>\n",
       "      <td>[159786.66666666666]</td>\n",
       "      <td>[147599.33333333334]</td>\n",
       "      <td>[147599.33333333334]</td>\n",
       "      <td>[147599.33333333334]</td>\n",
       "      <td>[147599.33333333334]</td>\n",
       "      <td>[147599.33333333334]</td>\n",
       "      <td>[147599.33333333334]</td>\n",
       "    </tr>\n",
       "    <tr>\n",
       "      <th>150</th>\n",
       "      <td>[159786.66666666666]</td>\n",
       "      <td>[147599.33333333334]</td>\n",
       "      <td>[147599.33333333334]</td>\n",
       "      <td>[147599.33333333334]</td>\n",
       "      <td>[147599.33333333334]</td>\n",
       "      <td>[147599.33333333334]</td>\n",
       "      <td>[147599.33333333334]</td>\n",
       "    </tr>\n",
       "    <tr>\n",
       "      <th>175</th>\n",
       "      <td>[159786.66666666666]</td>\n",
       "      <td>[147599.33333333334]</td>\n",
       "      <td>[147599.33333333334]</td>\n",
       "      <td>[147599.33333333334]</td>\n",
       "      <td>[147599.33333333334]</td>\n",
       "      <td>[147599.33333333334]</td>\n",
       "      <td>[147599.33333333334]</td>\n",
       "    </tr>\n",
       "    <tr>\n",
       "      <th>200</th>\n",
       "      <td>[159786.66666666666]</td>\n",
       "      <td>[159786.66666666666]</td>\n",
       "      <td>[147599.33333333334]</td>\n",
       "      <td>[147599.33333333334]</td>\n",
       "      <td>[147599.33333333334]</td>\n",
       "      <td>[147599.33333333334]</td>\n",
       "      <td>[147599.33333333334]</td>\n",
       "    </tr>\n",
       "  </tbody>\n",
       "</table>\n",
       "</div>"
      ],
      "text/plain": [
       "                     2023                  2024                  2025  \\\n",
       "25   [159786.66666666666]  [147599.33333333334]  [147599.33333333334]   \n",
       "50   [159786.66666666666]  [147599.33333333334]  [147599.33333333334]   \n",
       "75   [159786.66666666666]  [147599.33333333334]  [147599.33333333334]   \n",
       "100  [159786.66666666666]  [147599.33333333334]  [147599.33333333334]   \n",
       "125  [159786.66666666666]  [147599.33333333334]  [147599.33333333334]   \n",
       "150  [159786.66666666666]  [147599.33333333334]  [147599.33333333334]   \n",
       "175  [159786.66666666666]  [147599.33333333334]  [147599.33333333334]   \n",
       "200  [159786.66666666666]  [159786.66666666666]  [147599.33333333334]   \n",
       "\n",
       "                     2026                  2027                  2028  \\\n",
       "25   [147599.33333333334]  [147599.33333333334]  [147599.33333333334]   \n",
       "50   [147599.33333333334]  [147599.33333333334]  [147599.33333333334]   \n",
       "75   [147599.33333333334]  [147599.33333333334]  [147599.33333333334]   \n",
       "100  [147599.33333333334]  [147599.33333333334]  [147599.33333333334]   \n",
       "125  [147599.33333333334]  [147599.33333333334]  [147599.33333333334]   \n",
       "150  [147599.33333333334]  [147599.33333333334]  [147599.33333333334]   \n",
       "175  [147599.33333333334]  [147599.33333333334]  [147599.33333333334]   \n",
       "200  [147599.33333333334]  [147599.33333333334]  [147599.33333333334]   \n",
       "\n",
       "                     2029  \n",
       "25   [147599.33333333334]  \n",
       "50   [147599.33333333334]  \n",
       "75   [147599.33333333334]  \n",
       "100  [147599.33333333334]  \n",
       "125  [147599.33333333334]  \n",
       "150  [147599.33333333334]  \n",
       "175  [147599.33333333334]  \n",
       "200  [147599.33333333334]  "
      ]
     },
     "execution_count": 136,
     "metadata": {},
     "output_type": "execute_result"
    }
   ],
   "source": [
    "state_homeless_df"
   ]
  },
  {
   "cell_type": "code",
   "execution_count": 208,
   "metadata": {
    "scrolled": true
   },
   "outputs": [
    {
     "data": {
      "text/plain": [
       "2010    3.731950e+07\n",
       "2011    3.763837e+07\n",
       "2012    3.794880e+07\n",
       "2013    3.826079e+07\n",
       "2014    3.859697e+07\n",
       "2015    3.891804e+07\n",
       "2016    3.916712e+07\n",
       "2017    3.935850e+07\n",
       "2018    3.946159e+07\n",
       "2019    3.951222e+07\n",
       "2020    3.950165e+07\n",
       "2021    3.914299e+07\n",
       "2022    3.902934e+07\n",
       "2023    3.936059e+07\n",
       "2024    3.969184e+07\n",
       "2025    4.002308e+07\n",
       "2026    4.035433e+07\n",
       "2027    4.068558e+07\n",
       "2028    4.101683e+07\n",
       "2029    4.134808e+07\n",
       "2030    4.167932e+07\n",
       "2031    4.195091e+07\n",
       "2032    4.222250e+07\n",
       "2033    4.249409e+07\n",
       "2034    4.276568e+07\n",
       "2035    4.303727e+07\n",
       "2036    4.330885e+07\n",
       "2037    4.358044e+07\n",
       "2038    4.385203e+07\n",
       "2039    4.412362e+07\n",
       "2040    4.439521e+07\n",
       "Name: CA, dtype: float64"
      ]
     },
     "execution_count": 208,
     "metadata": {},
     "output_type": "execute_result"
    }
   ],
   "source": [
    "population_df.loc[state,:]"
   ]
  },
  {
   "cell_type": "code",
   "execution_count": null,
   "metadata": {},
   "outputs": [],
   "source": [
    "state_hpi_df"
   ]
  },
  {
   "cell_type": "code",
   "execution_count": null,
   "metadata": {},
   "outputs": [],
   "source": []
  }
 ],
 "metadata": {
  "kernelspec": {
   "display_name": "Python 3",
   "language": "python",
   "name": "python3"
  },
  "language_info": {
   "codemirror_mode": {
    "name": "ipython",
    "version": 3
   },
   "file_extension": ".py",
   "mimetype": "text/x-python",
   "name": "python",
   "nbconvert_exporter": "python",
   "pygments_lexer": "ipython3",
   "version": "3.8.5"
  }
 },
 "nbformat": 4,
 "nbformat_minor": 4
}
