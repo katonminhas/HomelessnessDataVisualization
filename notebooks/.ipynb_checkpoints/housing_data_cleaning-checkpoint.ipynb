{
 "cells": [
  {
   "cell_type": "code",
   "execution_count": 64,
   "metadata": {},
   "outputs": [],
   "source": [
    "# Imports\n",
    "import pandas as pd\n",
    "import numpy as np\n",
    "\n",
    "pd.set_option('display.max_rows', None)\n",
    "pd.set_option('display.max_columns', None)"
   ]
  },
  {
   "cell_type": "code",
   "execution_count": 68,
   "metadata": {},
   "outputs": [],
   "source": [
    "# Data read\n",
    "path = \"C:/Users/katon/Documents/JHU/DataVisualization/final_project/data/\"\n",
    "\n",
    "housing = pd.read_excel(path+\"state_housing_inventory_10-21.xlsx\")\n",
    "population = pd.read_excel(path+\"state_population_10-22.xlsx\")\n",
    "\n",
    "# Read into dictionary\n",
    "homeless = pd.read_excel(path+\"state_homeless_counts_07-22.xlsx\", sheet_name=None)\n"
   ]
  },
  {
   "cell_type": "code",
   "execution_count": null,
   "metadata": {},
   "outputs": [],
   "source": []
  }
 ],
 "metadata": {
  "kernelspec": {
   "display_name": "Python 3",
   "language": "python",
   "name": "python3"
  },
  "language_info": {
   "codemirror_mode": {
    "name": "ipython",
    "version": 3
   },
   "file_extension": ".py",
   "mimetype": "text/x-python",
   "name": "python",
   "nbconvert_exporter": "python",
   "pygments_lexer": "ipython3",
   "version": "3.8.5"
  }
 },
 "nbformat": 4,
 "nbformat_minor": 4
}
